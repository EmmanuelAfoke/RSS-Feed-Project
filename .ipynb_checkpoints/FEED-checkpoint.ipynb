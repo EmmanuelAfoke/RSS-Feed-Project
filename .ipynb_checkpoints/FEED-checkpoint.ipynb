{
 "cells": [
  {
   "cell_type": "code",
   "execution_count": 4,
   "id": "17a2da13",
   "metadata": {},
   "outputs": [],
   "source": [
    "import feedparser "
   ]
  },
  {
   "cell_type": "code",
   "execution_count": 7,
   "id": "8e5d3633",
   "metadata": {},
   "outputs": [],
   "source": [
    "\n",
    "# investing.com rss link: https://uk.investing.com/rss/news_25.rss \n",
    "# we didn't use it because I can't see any distinction between title and summary. There is just one piece of text.\n",
    "\n",
    "feed_url = 'https://news.google.com/rss/search?q=when:24h+allinurl:bloomberg.com&hl=en-US&gl=US&ceid=US:en'\n",
    "feed = feedparser.parse(feed_url)"
   ]
  },
  {
   "cell_type": "code",
   "execution_count": 8,
   "id": "b9aa95d1",
   "metadata": {},
   "outputs": [
    {
     "name": "stdout",
     "output_type": "stream",
     "text": [
      "Amazon Debuts Video-Streaming Feature That Rivals Apple AirPlay - Bloomberg https://news.google.com/rss/articles/CBMicmh0dHBzOi8vd3d3LmJsb29tYmVyZy5jb20vbmV3cy9hcnRpY2xlcy8yMDI0LTAxLTA5L2FtYXpvbi1kZWJ1dHMtdmlkZW8tc3RyZWFtaW5nLWZlYXR1cmUtdGhhdC1yaXZhbHMtYXBwbGUtYWlycGxhedIBAA?oc=5\n",
      "Watch 50 Companies to Watch in 2024 - Bloomberg https://news.google.com/rss/articles/CBMiTmh0dHBzOi8vd3d3LmJsb29tYmVyZy5jb20vbmV3cy92aWRlb3MvMjAyNC0wMS0wOS81MC1jb21wYW5pZXMtdG8td2F0Y2gtaW4tMjAyNNIBAA?oc=5\n",
      "Watch Short Seller Criticizes Grifols Accounting Practices - Bloomberg https://news.google.com/rss/articles/CBMiZWh0dHBzOi8vd3d3LmJsb29tYmVyZy5jb20vbmV3cy92aWRlb3MvMjAyNC0wMS0wOS9zaG9ydC1zZWxsZXItY3JpdGljaXplcy1ncmlmb2xzLWFjY291bnRpbmctcHJhY3RpY2Vz0gEA?oc=5\n",
      "Stock Market Today: Dow, S&P Live Updates for January 9 - Bloomberg https://news.google.com/rss/articles/CBMiWmh0dHBzOi8vd3d3LmJsb29tYmVyZy5jb20vbmV3cy9hcnRpY2xlcy8yMDI0LTAxLTA4L3N0b2NrLW1hcmtldC10b2RheS1kb3ctcy1wLWxpdmUtdXBkYXRlc9IBAA?oc=5\n",
      "2024 Company Stocks to Watch: 50 Picks Include Alphabet, Amazon, Exxon - Bloomberg https://news.google.com/rss/articles/CBMiO2h0dHBzOi8vd3d3LmJsb29tYmVyZy5jb20vZmVhdHVyZXMvY29tcGFuaWVzLXRvLXdhdGNoLTIwMjQv0gEA?oc=5\n",
      "White House Assembles Climate Advisers on LNG Export Approvals - Bloomberg https://news.google.com/rss/articles/CBMicWh0dHBzOi8vd3d3LmJsb29tYmVyZy5jb20vbmV3cy9hcnRpY2xlcy8yMDI0LTAxLTA5L3doaXRlLWhvdXNlLWFzc2VtYmxlcy1jbGltYXRlLWFkdmlzZXJzLW9uLWxuZy1leHBvcnQtYXBwcm92YWxz0gEA?oc=5\n",
      "FTSE 100 Live: What's Moving UK Markets, Pound (GBP/USD) Right Now - Bloomberg https://news.google.com/rss/articles/CBMiZGh0dHBzOi8vd3d3LmJsb29tYmVyZy5jb20vbmV3cy9saXZlLWJsb2cvMjAyNC0wMS0wOS93aGF0LXMtbW92aW5nLXVrLW1hcmtldHMtcmlnaHQtbm93LW1hcmtldHMtdG9kYXnSAQA?oc=5\n",
      "Bloomberg Surveillance: Geopolitical Risks in 2024 - Bloomberg https://news.google.com/rss/articles/CBMiaWh0dHBzOi8vd3d3LmJsb29tYmVyZy5jb20vbmV3cy9hdWRpby8yMDI0LTAxLTA5L2Jsb29tYmVyZy1zdXJ2ZWlsbGFuY2UtZ2VvcG9saXRpY2FsLXJpc2tzLWluLTIwMjQtcG9kY2FzdNIBAA?oc=5\n",
      "Italy Clashes with ArcelorMittal Over Control of Steelmaker - Bloomberg https://news.google.com/rss/articles/CBMicGh0dHBzOi8vd3d3LmJsb29tYmVyZy5jb20vbmV3cy9hcnRpY2xlcy8yMDI0LTAxLTA4L2l0YWx5LXBsZWRnZXMtdG8tbmF0aW9uYWxpemUtdGhlLWNvdW50cnktcy1iaWdnZXN0LXN0ZWVsbWFrZXLSAQA?oc=5\n",
      "UBS Plans Bigger China Onshore Wealth, Asset Management Business - Bloomberg https://news.google.com/rss/articles/CBMicmh0dHBzOi8vd3d3LmJsb29tYmVyZy5jb20vbmV3cy9hcnRpY2xlcy8yMDI0LTAxLTA4L3Vicy1wbGFucy1iaWdnZXItY2hpbmEtb25zaG9yZS13ZWFsdGgtYXNzZXQtbWFuYWdlbWVudC1idXNpbmVzc9IBAA?oc=5\n",
      "HSBC's Kettner Warns of 'Reverse Goldilocks' Scenario - Bloomberg https://news.google.com/rss/articles/CBMiamh0dHBzOi8vd3d3LmJsb29tYmVyZy5jb20vbmV3cy92aWRlb3MvMjAyNC0wMS0wOS9oc2JjLXMta2V0dG5lci13YXJucy1vZi1yZXZlcnNlLWdvbGRpbG9ja3Mtc2NlbmFyaW8tdmlkZW_SAQA?oc=5\n",
      "SK Hynix CEO Expects AI Memory Boom to Double Company's Value - Bloomberg https://news.google.com/rss/articles/CBMicGh0dHBzOi8vd3d3LmJsb29tYmVyZy5jb20vbmV3cy9hcnRpY2xlcy8yMDI0LTAxLTA5L3NrLWh5bml4LWNlby1leHBlY3RzLWFpLW1lbW9yeS1ib29tLXRvLWRvdWJsZS1jb21wYW55LXMtdmFsdWXSAQA?oc=5\n",
      "Listen: Ship Attacks, Fort Worth Explosion, More - Bloomberg https://news.google.com/rss/articles/CBMiW2h0dHBzOi8vd3d3LmJsb29tYmVyZy5jb20vbmV3cy9hcnRpY2xlcy8yMDI0LTAxLTA4L2xpc3Rlbi1ib2VpbmdzLWdyb3VuZGVkLXVzLXNwZW5kaW5nLW1vcmXSAQA?oc=5\n",
      "Boeing Becomes the Poor Relation in Duopoly With Airbus - Bloomberg https://news.google.com/rss/articles/CBMibWh0dHBzOi8vd3d3LmJsb29tYmVyZy5jb20vb3Bpbmlvbi9hcnRpY2xlcy8yMDI0LTAxLTA5L2JvZWluZy1iZWNvbWVzLXRoZS1wb29yLXJlbGF0aW9uLWluLWR1b3BvbHktd2l0aC1haXJidXPSAQA?oc=5\n",
      "Year of the Geo-Risks, From US Election to China to Deglobalization - Bloomberg https://news.google.com/rss/articles/CBMieGh0dHBzOi8vd3d3LmJsb29tYmVyZy5jb20vb3Bpbmlvbi9hcnRpY2xlcy8yMDI0LTAxLTA5L3llYXItb2YtdGhlLWdlby1yaXNrcy1mcm9tLXVzLWVsZWN0aW9uLXRvLWNoaW5hLXRvLWRlZ2xvYmFsaXphdGlvbtIBAA?oc=5\n",
      "What You’ve Heard About Resilience Is Probably Wrong - Bloomberg https://news.google.com/rss/articles/CBMiamh0dHBzOi8vd3d3LmJsb29tYmVyZy5jb20vb3Bpbmlvbi9hcnRpY2xlcy8yMDI0LTAxLTA5L3doYXQteW91LXZlLWhlYXJkLWFib3V0LXJlc2lsaWVuY2UtaXMtcHJvYmFibHktd3JvbmfSAQA?oc=5\n",
      "Ex-Tyson Foods CEO Dean Banks to Lead Farm Tech Startup Indigo - Bloomberg https://news.google.com/rss/articles/CBMidGh0dHBzOi8vd3d3LmJsb29tYmVyZy5jb20vbmV3cy9hcnRpY2xlcy8yMDI0LTAxLTA5L2V4LXR5c29uLWZvb2RzLWNlby1kZWFuLWJhbmtzLXRvLWxlYWQtZmFybWluZy10ZWNoLXN0YXJ0dXAtaW5kaWdv0gEA?oc=5\n",
      "Microsoft's OpenAI Ties Face Potential EU Merger Investigation - Bloomberg https://news.google.com/rss/articles/CBMicWh0dHBzOi8vd3d3LmJsb29tYmVyZy5jb20vbmV3cy9hcnRpY2xlcy8yMDI0LTAxLTA5L21pY3Jvc29mdC1zLW9wZW5haS10aWVzLWZhY2UtcG90ZW50aWFsLWV1LW1lcmdlci1pbnZlc3RpZ2F0aW9u0gEA?oc=5\n",
      "Yen Rises After BOJ Indicates Cut in Super-Long Bond Buying - Bloomberg https://news.google.com/rss/articles/CBMibmh0dHBzOi8vd3d3LmJsb29tYmVyZy5jb20vbmV3cy9hcnRpY2xlcy8yMDI0LTAxLTA5L2Jvai1tb3ZlLXN1Z2dlc3RzLWN1dC1pbi1tb250aGx5LWJ1eWluZy1vZi1zdXBlci1sb25nLWJvbmRz0gEA?oc=5\n",
      "Russia Reduces December Crude Output by Most Since Cuts Started - Bloomberg https://news.google.com/rss/articles/CBMicmh0dHBzOi8vd3d3LmJsb29tYmVyZy5jb20vbmV3cy9hcnRpY2xlcy8yMDI0LTAxLTA5L3J1c3NpYS1yZWR1Y2VzLWRlY2VtYmVyLWNydWRlLW91dHB1dC1ieS1tb3N0LXNpbmNlLWN1dHMtc3RhcnRlZNIBAA?oc=5\n",
      "Five Things You Need to Know to Start Your Day: Americas - Bloomberg https://news.google.com/rss/articles/CBMibWh0dHBzOi8vd3d3LmJsb29tYmVyZy5jb20vbmV3cy9uZXdzbGV0dGVycy8yMDI0LTAxLTA5L2ZpdmUtdGhpbmdzLXlvdS1uZWVkLXRvLWtub3ctdG8tc3RhcnQteW91ci1kYXktYW1lcmljYXPSAQA?oc=5\n",
      "GM's Battery Partner LG Posts Big Earnings Miss Amid Weak Demand - Bloomberg https://news.google.com/rss/articles/CBMic2h0dHBzOi8vd3d3LmJsb29tYmVyZy5jb20vbmV3cy9hcnRpY2xlcy8yMDI0LTAxLTA5L2dtLXMtYmF0dGVyeS1wYXJ0bmVyLWxnLXBvc3RzLWJpZy1lYXJuaW5ncy1taXNzLWFtaWQtd2Vhay1kZW1hbmTSAQA?oc=5\n",
      "Grifols Sinks as Short Seller Gotham Criticizes Accounting - Bloomberg https://news.google.com/rss/articles/CBMicWh0dHBzOi8vd3d3LmJsb29tYmVyZy5jb20vbmV3cy9hcnRpY2xlcy8yMDI0LTAxLTA5L3Nob3J0LXNlbGxlci1nb3RoYW0tdGFyZ2V0cy1ncmlmb2xzLXdpdGgtcmVwb3J0LW9uLWRlYnQtcHJvZml00gEA?oc=5\n",
      "Elections 2024: Facebook Should Ban Audio Deepfake Clips of Trump and Others - Bloomberg https://news.google.com/rss/articles/CBMigQFodHRwczovL3d3dy5ibG9vbWJlcmcuY29tL29waW5pb24vYXJ0aWNsZXMvMjAyNC0wMS0wOS9lbGVjdGlvbnMtMjAyNC1mYWNlYm9vay1zaG91bGQtYmFuLWF1ZGlvLWRlZXBmYWtlLWNsaXBzLW9mLXRydW1wLWFuZC1vdGhlcnPSAQA?oc=5\n",
      "Zee Says Still Working to Close Sony Merger, Shares Pare Losses - Bloomberg https://news.google.com/rss/articles/CBMibmh0dHBzOi8vd3d3LmJsb29tYmVyZy5jb20vbmV3cy9hcnRpY2xlcy8yMDI0LTAxLTA5L3plZS1zaGFyZXMtcGx1bmdlLTEwLWFmdGVyLXNvbnktc2FpZC10by1jYWxsLW9mZi10aGUtbWVyZ2Vy0gEA?oc=5\n",
      "France: Macron Pushes Out Prime Minister Borne - Bloomberg https://news.google.com/rss/articles/CBMic2h0dHBzOi8vd3d3LmJsb29tYmVyZy5jb20vbmV3cy9hcnRpY2xlcy8yMDI0LTAxLTA5L21hY3Jvbi1zZWVrcy1uZXctbW9tZW50dW0tYWZ0ZXItcHVzaGluZy1vdXQtcHJpbWUtbWluaXN0ZXItYm9ybmXSAQA?oc=5\n",
      "(BTC) Bitcoin Price Hovers Under $47000 as ETF Frenzy Continues - Bloomberg https://news.google.com/rss/articles/CBMiZmh0dHBzOi8vd3d3LmJsb29tYmVyZy5jb20vbmV3cy9hcnRpY2xlcy8yMDI0LTAxLTA5L2JpdGNvaW4taG92ZXJzLXVuZGVyLTQ3LTAwMC1hcy1ldGYtZnJlbnp5LWNvbnRpbnVlc9IBAA?oc=5\n",
      "Private Credit Can Thrive in Asia as PE Looks to Boost Portfolio Returns - Bloomberg https://news.google.com/rss/articles/CBMifmh0dHBzOi8vd3d3LmJsb29tYmVyZy5jb20vb3Bpbmlvbi9hcnRpY2xlcy8yMDI0LTAxLTA4L3ByaXZhdGUtY3JlZGl0LWNhbi10aHJpdmUtaW4tYXNpYS1hcy1wZS1sb29rcy10by1ib29zdC1wb3J0Zm9saW8tcmV0dXJuc9IBAA?oc=5\n",
      "JD.com Unit Dives 46% After Disclosing 'Suspicious' Revenue - Bloomberg https://news.google.com/rss/articles/CBMia2h0dHBzOi8vd3d3LmJsb29tYmVyZy5jb20vbmV3cy9hcnRpY2xlcy8yMDI0LTAxLTA5L2pkLWNvbS11bml0LWRpdmVzLTQ2LWFmdGVyLWRpc2Nsb3Npbmctc3VzcGljaW91cy1yZXZlbnVl0gEA?oc=5\n",
      "Floods Strand Cows, Damage Crops as Wild Weather Hits Australia - Bloomberg https://news.google.com/rss/articles/CBMicWh0dHBzOi8vd3d3LmJsb29tYmVyZy5jb20vbmV3cy9hcnRpY2xlcy8yMDI0LTAxLTA5L2Zsb29kcy1zdHJhbmQtY293cy1kYW1hZ2UtY3JvcHMtYXMtd2lsZC13ZWF0aGVyLWhpdHMtYXVzdHJhbGlh0gEA?oc=5\n",
      "Johannesburg Housing Shortage Leaves Hijacked Buildings as a Last Resort - Bloomberg https://news.google.com/rss/articles/CBMie2h0dHBzOi8vd3d3LmJsb29tYmVyZy5jb20vbmV3cy9hcnRpY2xlcy8yMDI0LTAxLTA5L2pvaGFubmVzYnVyZy1ob3VzaW5nLXNob3J0YWdlLWxlYXZlcy1oaWphY2tlZC1idWlsZGluZ3MtYXMtYS1sYXN0LXJlc29ydNIBAA?oc=5\n",
      "Washington Says Bangladesh Elections Were Neither Free Nor Fair - Bloomberg https://news.google.com/rss/articles/CBMicmh0dHBzOi8vd3d3LmJsb29tYmVyZy5jb20vbmV3cy9hcnRpY2xlcy8yMDI0LTAxLTA5L3dhc2hpbmd0b24tc2F5cy1iYW5nbGFkZXNoLWVsZWN0aW9ucy13ZXJlLW5laXRoZXItZnJlZS1ub3ItZmFpctIBAA?oc=5\n",
      "Ukraine and Allies Secret Riyadh Meeting Tried to Rally Support for Peace Talks - Bloomberg https://news.google.com/rss/articles/CBMiggFodHRwczovL3d3dy5ibG9vbWJlcmcuY29tL25ld3MvYXJ0aWNsZXMvMjAyNC0wMS0wOS91a3JhaW5lLWFuZC1hbGxpZXMtc2VjcmV0LXJpeWFkaC1tZWV0aW5nLXRyaWVkLXRvLXJhbGx5LXN1cHBvcnQtZm9yLXBlYWNlLXRhbGtz0gEA?oc=5\n",
      "Boeing (BA) Takes First Step to Ungrounding 737 Max 9 After Mishap - Bloomberg https://news.google.com/rss/articles/CBMicmh0dHBzOi8vd3d3LmJsb29tYmVyZy5jb20vbmV3cy9hcnRpY2xlcy8yMDI0LTAxLTA4L2JvZWluZy1pc3N1ZXMtbWF4LTktaW5zcGVjdGlvbi1tZW1vLWluLXN0ZXAtdG8tdW5ncm91bmRpbmctamV0c9IBAA?oc=5\n",
      "Bitcoin Rally Cools in Countdown to US Spot ETF Decision by SEC - Bloomberg https://news.google.com/rss/articles/CBMid2h0dHBzOi8vd3d3LmJsb29tYmVyZy5jb20vbmV3cy9hcnRpY2xlcy8yMDI0LTAxLTA5L2JpdGNvaW4tYnRjLXJhbGx5LWNvb2xzLW5lYXItNDctMDAwLWluLWNvdW50ZG93bi10by1zZWMtZXRmLWRlY2lzaW9u0gEA?oc=5\n",
      "Pfizer Stock Down 40% in Past Year; CEO Bets on Cancer Drugs for Rebound - Bloomberg https://news.google.com/rss/articles/CBMicGh0dHBzOi8vd3d3LmJsb29tYmVyZy5jb20vbmV3cy9hcnRpY2xlcy8yMDI0LTAxLTA5L3BmaXplci1jZW8tYWxiZXJ0LWJvdXJsYS1zZWVzLWNhbmNlci1kcnVncy1hcy1rZXktdG8tY29tZWJhY2vSAQA?oc=5\n",
      "Ivory Coast and Rwanda Among World’s Fastest-Growing Economies, Says IMF - Bloomberg https://news.google.com/rss/articles/CBMiemh0dHBzOi8vd3d3LmJsb29tYmVyZy5jb20vbmV3cy9hcnRpY2xlcy8yMDI0LTAxLTA5L2l2b3J5LWNvYXN0LWFuZC1yd2FuZGEtYW1vbmctd29ybGQtcy1mYXN0ZXN0LWdyb3dpbmctZWNvbm9taWVzLXNheXMtaW1m0gEA?oc=5\n",
      "Eversource Energy (ES) to Take $1.6 Billion Charge on US Offshore Wind Farms - Bloomberg https://news.google.com/rss/articles/CBMicmh0dHBzOi8vd3d3LmJsb29tYmVyZy5jb20vbmV3cy9hcnRpY2xlcy8yMDI0LTAxLTA4L2V2ZXJzb3VyY2UtdG8tdGFrZS0xLTYtYmlsbGlvbi1jaGFyZ2Utb24tdXMtb2Zmc2hvcmUtd2luZC1mYXJtc9IBAA?oc=5\n",
      "Nikkei Hits Highest Since Early 1990s in Sign Deflation Ending - Bloomberg https://news.google.com/rss/articles/CBMie2h0dHBzOi8vd3d3LmJsb29tYmVyZy5jb20vbmV3cy9hcnRpY2xlcy8yMDI0LTAxLTA5L2phcGFuLXMtbmlra2VpLTIyNS1jbGltYnMtYmFjay10by1oaWdoZXN0LXNpbmNlLTE5OTAtYnViYmxlLWVyYS1scjV5NjhnZNIBAA?oc=5\n",
      "A $32 Billion Rout May Not Be End of Tencent's Woes - Bloomberg https://news.google.com/rss/articles/CBMicGh0dHBzOi8vd3d3LmJsb29tYmVyZy5jb20vbmV3cy9hcnRpY2xlcy8yMDI0LTAxLTA5L2EtMzItYmlsbGlvbi1yb3V0LW1heS1ub3QtYmUtZW5kLW9mLXRlbmNlbnQtcy13b2VzLXRlY2gtd2F0Y2jSAQA?oc=5\n",
      "Apollo Global Winds Down Asia Real Estate Equity Fund Business - Bloomberg https://news.google.com/rss/articles/CBMicWh0dHBzOi8vd3d3LmJsb29tYmVyZy5jb20vbmV3cy9hcnRpY2xlcy8yMDI0LTAxLTA5L2Fwb2xsby1nbG9iYWwtd2luZHMtZG93bi1hc2lhLXJlYWwtZXN0YXRlLWVxdWl0eS1mdW5kLWJ1c2luZXNz0gEA?oc=5\n",
      "Investors Have Raised Their Bar for Investing in China, RBC Says - Bloomberg https://news.google.com/rss/articles/CBMicGh0dHBzOi8vd3d3LmJsb29tYmVyZy5jb20vbmV3cy92aWRlb3MvMjAyNC0wMS0wOS9pbnZlc3RvcnMtaGF2ZS1yYWlzZWQtdGhlaXItYmFyLWZvci1pbnZlc3RpbmctaW4tY2hpbmEtcmJjLXNheXPSAQA?oc=5\n",
      "Cathay Pacific Union Calls for Government Inquiry Into Pilot Shortage - Bloomberg https://news.google.com/rss/articles/CBMibWh0dHBzOi8vd3d3LmJsb29tYmVyZy5jb20vbmV3cy9hcnRpY2xlcy8yMDI0LTAxLTA5L2NhdGhheS1wYWNpZmljLXVuaW9uLWNhbGxzLWZvci1pbnF1aXJ5LWludG8tcGlsb3Qtc2hvcnRhZ2XSAQA?oc=5\n",
      "BlackRock Warns of UK Bond Selloff Risk as Election Year Begins - Bloomberg https://news.google.com/rss/articles/CBMicGh0dHBzOi8vd3d3LmJsb29tYmVyZy5jb20vbmV3cy9hcnRpY2xlcy8yMDI0LTAxLTA5L2JsYWNrcm9jay13YXJucy1vZi11ay1ib25kLXZpZ2lsYW50ZXMtYXMtZWxlY3Rpb24teWVhci1iZWdpbnPSAQA?oc=5\n",
      "India Bank Stocks Validate Downside Potential With Latest Drop - Bloomberg https://news.google.com/rss/articles/CBMicWh0dHBzOi8vd3d3LmJsb29tYmVyZy5jb20vbmV3cy9hcnRpY2xlcy8yMDI0LTAxLTA5L2luZGlhLWJhbmstc3RvY2tzLXZhbGlkYXRlLWRvd25zaWRlLXBvdGVudGlhbC13aXRoLWxhdGVzdC1kcm9w0gEA?oc=5\n",
      "ICICI Is Hiring 30 Investment Bankers on Expectations for Record Fundraising in India - Bloomberg https://news.google.com/rss/articles/CBMigwFodHRwczovL3d3dy5ibG9vbWJlcmcuY29tL25ld3MvYXJ0aWNsZXMvMjAyNC0wMS0wOC9pY2ljaS10by1oaXJlLTMwLWludmVzdG1lbnQtYmFua2Vycy1vbi1leHBlY3RhdGlvbnMtZm9yLXJlY29yZC1pbmRpYS1mdW5kcmFpc2luZ9IBAA?oc=5\n",
      "Cathay ESG-Focused ETF’s Bet on Taiwanese Tech Stocks Take Off - Bloomberg https://news.google.com/rss/articles/CBMiaGh0dHBzOi8vd3d3LmJsb29tYmVyZy5jb20vbmV3cy9hcnRpY2xlcy8yMDI0LTAxLTA4L3dvcmxkLWJlYXRpbmctZXNnLWV0Zi1zLWJldC1vbi1uaWNoZS1zZWN0b3ItdGFrZXMtb2Zm0gEA?oc=5\n",
      "Taiwan Activates Air Raid Alert After Chinese Satellite Fly-Over - Bloomberg https://news.google.com/rss/articles/CBMic2h0dHBzOi8vd3d3LmJsb29tYmVyZy5jb20vbmV3cy9hcnRpY2xlcy8yMDI0LTAxLTA5L3RhaXdhbi1hY3RpdmF0ZXMtYWlyLXJhaWQtYWxlcnQtYWZ0ZXItY2hpbmVzZS1zYXRlbGxpdGUtZmx5LW92ZXLSAQA?oc=5\n",
      "If China Invades Taiwan, It Would Cost World Economy $10 Trillion - Bloomberg https://news.google.com/rss/articles/CBMicmh0dHBzOi8vd3d3LmJsb29tYmVyZy5jb20vbmV3cy9mZWF0dXJlcy8yMDI0LTAxLTA5L2lmLWNoaW5hLWludmFkZXMtdGFpd2FuLWl0LXdvdWxkLWNvc3Qtd29ybGQtZWNvbm9teS0xMC10cmlsbGlvbtIBAA?oc=5\n",
      "Samsung Earnings: Profit Tumbles 35% Amid Ongoing Chip Weakness - Bloomberg https://news.google.com/rss/articles/CBMia2h0dHBzOi8vd3d3LmJsb29tYmVyZy5jb20vbmV3cy92aWRlb3MvMjAyNC0wMS0wOS9zYW1zdW5nLXByb2ZpdC10dW1ibGVzLTM1LWFtaWQtb25nb2luZy1jaGlwLXdlYWtuZXNzLXZpZGVv0gEA?oc=5\n",
      "UK Says Fujitsu Must Pay If It's Blamed for Post Office Scandal - Bloomberg https://news.google.com/rss/articles/CBMibmh0dHBzOi8vd3d3LmJsb29tYmVyZy5jb20vbmV3cy9hcnRpY2xlcy8yMDI0LTAxLTA4L2Z1aml0c3UtdGFyZ2V0ZWQtYnktdWstcG9saXRpY2lhbnMtb3Zlci1wb3N0LW9mZmljZS1zY2FuZGFs0gEA?oc=5\n",
      "South Africa Antitrust Probe Into Rand-Fixing Collapses, BD Says - Bloomberg https://news.google.com/rss/articles/CBMicmh0dHBzOi8vd3d3LmJsb29tYmVyZy5jb20vbmV3cy9hcnRpY2xlcy8yMDI0LTAxLTA5L3NvdXRoLWFmcmljYS1hbnRpdHJ1c3QtcHJvYmUtaW50by1yYW5kLWZpeGluZy1jb2xsYXBzZXMtYmQtc2F5c9IBAA?oc=5\n",
      "Samsung Profit Tumbles 35% as Chip Weakness Persists - Bloomberg https://news.google.com/rss/articles/CBMiZmh0dHBzOi8vd3d3LmJsb29tYmVyZy5jb20vbmV3cy9hcnRpY2xlcy8yMDI0LTAxLTA4L3NhbXN1bmctcHJvZml0LXR1bWJsZXMtMzUtYXMtY2hpcC13ZWFrbmVzcy1wZXJzaXN0c9IBAA?oc=5\n",
      "Unity Software (U) to Cut 1,800 Jobs - Bloomberg https://news.google.com/rss/articles/CBMibmh0dHBzOi8vd3d3LmJsb29tYmVyZy5jb20vbmV3cy9hcnRpY2xlcy8yMDI0LTAxLTA4L3VuaXR5LXNvZnR3YXJlLXRvLWN1dC0xLTgwMC1lbXBsb3llZXMtYWJvdXQtMjUtb2Ytd29ya2ZvcmNl0gEA?oc=5\n",
      "Boeing Falls, S&P Up - Beyond the Bell - Bloomberg https://news.google.com/rss/articles/CBMiVGh0dHBzOi8vd3d3LmJsb29tYmVyZy5jb20vbmV3cy92aWRlb3MvMjAyNC0wMS0wOC9ib2VpbmctZmFsbHMtcy1wLXVwLWJleW9uZC10aGUtYmVsbNIBAA?oc=5\n",
      "China's Central Bank Hints at Reserve Ratio Cut for Lenders - Bloomberg https://news.google.com/rss/articles/CBMibmh0dHBzOi8vd3d3LmJsb29tYmVyZy5jb20vbmV3cy9hcnRpY2xlcy8yMDI0LTAxLTA4L2NoaW5hLXMtY2VudHJhbC1iYW5rLWhpbnRzLWF0LXJlc2VydmUtcmF0aW8tY3V0LWZvci1sZW5kZXJz0gEA?oc=5\n",
      "Lloyd Austin Must Come Clean About His Health - Bloomberg https://news.google.com/rss/articles/CBMidWh0dHBzOi8vd3d3LmJsb29tYmVyZy5jb20vb3Bpbmlvbi9hcnRpY2xlcy8yMDI0LTAxLTA4L2RlZmVuc2Utc2VjcmV0YXJ5LWxsb3lkLWF1c3Rpbi1tdXN0LWNvbWUtY2xlYW4tYWJvdXQtaGlzLWhlYWx0aNIBAA?oc=5\n",
      "Haley at Fox Town Hall in Iowa: Federal Late-Term Abortion Ban Could Be Possible - Bloomberg https://news.google.com/rss/articles/CBMifWh0dHBzOi8vd3d3LmJsb29tYmVyZy5jb20vbmV3cy9hcnRpY2xlcy8yMDI0LTAxLTA5L2hhbGV5LWF0LWZveC10b3duLWhhbGwtZmVkZXJhbC1sYXRlLXRlcm0tYWJvcnRpb24tYmFuLWNvdWxkLWZpbmQtY29uc2Vuc3Vz0gEA?oc=5\n",
      "Boeing Alternative in China Starts to Look Enticing - Bloomberg https://news.google.com/rss/articles/CBMiaWh0dHBzOi8vd3d3LmJsb29tYmVyZy5jb20vb3Bpbmlvbi9hcnRpY2xlcy8yMDI0LTAxLTA4L2JvZWluZy1hbHRlcm5hdGl2ZS1pbi1jaGluYS1zdGFydHMtdG8tbG9vay1lbnRpY2luZ9IBAA?oc=5\n",
      "EV-Charging Firms to Struggle With Finances, Investment in 2024 - Bloomberg https://news.google.com/rss/articles/CBMicWh0dHBzOi8vd3d3LmJsb29tYmVyZy5jb20vbmV3cy9hcnRpY2xlcy8yMDI0LTAxLTA4L2V2LWNoYXJnaW5nLWZpcm1zLXRvLXN0cnVnZ2xlLXdpdGgtZmluYW5jZXMtaW52ZXN0bWVudC1pbi0yMDI00gEA?oc=5\n",
      "The 2024 Biden-Trump Contest Is a Test of Populist Visions - Bloomberg https://news.google.com/rss/articles/CBMicGh0dHBzOi8vd3d3LmJsb29tYmVyZy5jb20vbmV3cy9uZXdzbGV0dGVycy8yMDI0LTAxLTA4L3RoZS0yMDI0LWJpZGVuLXRydW1wLWNvbnRlc3QtaXMtYS10ZXN0LW9mLXBvcHVsaXN0LXZpc2lvbnPSAQA?oc=5\n",
      "US Inflation on Track to Hit Fed's Target, Bostic Says - Bloomberg https://news.google.com/rss/articles/CBMia2h0dHBzOi8vd3d3LmJsb29tYmVyZy5jb20vbmV3cy9hcnRpY2xlcy8yMDI0LTAxLTA4L2Jvc3RpYy1zYXlzLWluZmxhdGlvbi1vbi1wYXRoLXRvLXJlYWNoaW5nLWZlZC1zLTItdGFyZ2V00gEA?oc=5\n",
      "Boeing 737 Max 9 Door Bolt Trouble After Alaska Airlines Mess Helps Airbus - Bloomberg https://news.google.com/rss/articles/CBMiiQFodHRwczovL3d3dy5ibG9vbWJlcmcuY29tL29waW5pb24vYXJ0aWNsZXMvMjAyNC0wMS0wOC9ib2VpbmctNzM3LW1heC05LWRvb3ItYm9sdC10cm91YmxlLWFmdGVyLWFsYXNrYS1haXJsaW5lcy1tZXNzLWhlbHBzLWFpcmJ1cy1scjVpc3k3cNIBAA?oc=5\n",
      "Fidelity Picks Jane Street, Cumberland to Trade Bitcoin for Potential ETF - Bloomberg https://news.google.com/rss/articles/CBMicWh0dHBzOi8vd3d3LmJsb29tYmVyZy5jb20vbmV3cy9hcnRpY2xlcy8yMDI0LTAxLTA5L2ZpZGVsaXR5LXBpY2tzLWphbmUtc3RyZWV0LWN1bWJlcmxhbmQtdG8tdHJhZGUtYml0Y29pbi1mb3ItZXRm0gEA?oc=5\n",
      "Verbal Miscommunication May Be Behind Haneda Crash, Yomiuri Says - Bloomberg https://news.google.com/rss/articles/CBMicmh0dHBzOi8vd3d3LmJsb29tYmVyZy5jb20vbmV3cy9hcnRpY2xlcy8yMDI0LTAxLTA5L3ZlcmJhbC1taXNjb21tdW5pY2F0aW9uLW1heS1iZS1iZWhpbmQtaGFuZWRhLWNyYXNoLXlvbWl1cmktc2F5c9IBAA?oc=5\n",
      "2024 Market Outlook From World's Top Financial Minds: Big Take Podcast - Bloomberg https://news.google.com/rss/articles/CBMiigFodHRwczovL3d3dy5ibG9vbWJlcmcuY29tL25ld3MvYXJ0aWNsZXMvMjAyNC0wMS0wOC8yMDI0LW1hcmtldC1vdXRsb29rLWZyb20td29ybGQtcy10b3AtZmluYW5jaWFsLW1pbmRzLWJpZy10YWtlLXBvZGNhc3Q_c3JuZD1maXhlZC1pbmNvbWXSAQA?oc=5\n",
      "Stocks, Risk Assets' Rally Likely to Extend Into 2024, BlackRock Says - Bloomberg https://news.google.com/rss/articles/CBMicGh0dHBzOi8vd3d3LmJsb29tYmVyZy5jb20vbmV3cy9hcnRpY2xlcy8yMDI0LTAxLTA4L2JsYWNrcm9jay1zYXlzLWxhc3QteWVhci1zLXJpc2stcmFsbHktaGFzLWxlZ3Mtd2VsbC1pbnRvLTIwMjTSAQA?oc=5\n",
      "Elon Musk Isn't Getting Enough Sleep - Bloomberg https://news.google.com/rss/articles/CBMiWmh0dHBzOi8vd3d3LmJsb29tYmVyZy5jb20vb3Bpbmlvbi9hcnRpY2xlcy8yMDI0LTAxLTA4L2Vsb24tbXVzay1pc24tdC1nZXR0aW5nLWVub3VnaC1zbGVlcNIBAA?oc=5\n",
      "Apollo Targets $2 Billion for Next Fund Dedicated to Secondary Credit Investments - Bloomberg https://news.google.com/rss/articles/CBMibGh0dHBzOi8vd3d3LmJsb29tYmVyZy5jb20vbmV3cy9hcnRpY2xlcy8yMDI0LTAxLTA4L2Fwb2xsby10YXJnZXRzLTItYmlsbGlvbi1mb3ItbmV4dC1jcmVkaXQtc2Vjb25kYXJpZXMtZnVuZNIBAA?oc=5\n",
      "Duolingo Job Cuts: 10% of Contractors Laid Off With AI Features Added - Bloomberg https://news.google.com/rss/articles/CBMib2h0dHBzOi8vd3d3LmJsb29tYmVyZy5jb20vbmV3cy9hcnRpY2xlcy8yMDI0LTAxLTA4L2R1b2xpbmdvLWN1dHMtMTAtb2YtY29udHJhY3RvcnMtaW4tbW92ZS10by1ncmVhdGVyLXVzZS1vZi1hadIBAA?oc=5\n",
      "Yellen Says Extending Trump Tax Cuts Would Worsen Deficit - Bloomberg https://news.google.com/rss/articles/CBMibGh0dHBzOi8vd3d3LmJsb29tYmVyZy5jb20vbmV3cy9hcnRpY2xlcy8yMDI0LTAxLTA4L3llbGxlbi1zYXlzLWV4dGVuZGluZy10cnVtcC10YXgtY3V0cy13b3VsZC13b3JzZW4tZGVmaWNpdNIBAA?oc=5\n",
      "Could See Spot Bitcoin ETF 8% Above Fair Value: GTS's Browne - Bloomberg https://news.google.com/rss/articles/CBMia2h0dHBzOi8vd3d3LmJsb29tYmVyZy5jb20vbmV3cy92aWRlb3MvMjAyNC0wMS0wOC9jb3VsZC1zZWUtc3BvdC1iaXRjb2luLWV0Zi04LWFib3ZlLWZhaXItdmFsdWUtYnJvd25lLXZpZGVv0gEA?oc=5\n",
      "Alaska Air Blowout: Airlines and Flyers Are Stuck With Boeing's 737 Max - Bloomberg https://news.google.com/rss/articles/CBMifGh0dHBzOi8vd3d3LmJsb29tYmVyZy5jb20vb3Bpbmlvbi9hcnRpY2xlcy8yMDI0LTAxLTA4L2FsYXNrYS1haXItYmxvd291dC1haXJsaW5lcy1hbmQtZmx5ZXJzLWFyZS1zdHVjay13aXRoLWJvZWluZy1zLTczNy1tYXjSAQA?oc=5\n",
      "GSK CEO Emma Walmsley Seeks Acquisitions in Core Business Areas - Bloomberg https://news.google.com/rss/articles/CBMibGh0dHBzOi8vd3d3LmJsb29tYmVyZy5jb20vbmV3cy9hcnRpY2xlcy8yMDI0LTAxLTA4L2dzay1zLWNlby1pcy1odW50aW5nLWZvci1hY3F1aXNpdGlvbnMtdG8ta2VlcC11cC1tb21lbnR1bdIBAA?oc=5\n",
      "Alcoa (AA) to Curb Kwinana Alumina Refinery Output in Australia to Cut Costs - Bloomberg https://news.google.com/rss/articles/CBMie2h0dHBzOi8vd3d3LmJsb29tYmVyZy5jb20vbmV3cy9hcnRpY2xlcy8yMDI0LTAxLTA4L2FsY29hLXRvLWN1cmItb3V0cHV0LWF0LWF1c3RyYWxpYW4tYWx1bWluYS1yZWZpbmVyeS1pbi1jb3N0LWN1dHRpbmctcHVzaNIBAA?oc=5\n",
      "Pirelli’s Italy Investors Tighten Grip After Government Curbs Sinochem Influence - Bloomberg https://news.google.com/rss/articles/CBMicmh0dHBzOi8vd3d3LmJsb29tYmVyZy5jb20vbmV3cy9hcnRpY2xlcy8yMDI0LTAxLTA4L3BpcmVsbGktcy1pdGFsaWFuLWludmVzdG9ycy1pbmNyZWFzZS1ncmlwLW9uLWZvcm11bGEtMS1zdXBwbGllctIBAA?oc=5\n",
      "French Prime Minister Borne Quits; Replacement Not Yet Named - Bloomberg https://news.google.com/rss/articles/CBMicGh0dHBzOi8vd3d3LmJsb29tYmVyZy5jb20vbmV3cy9hcnRpY2xlcy8yMDI0LTAxLTA4L2ZyZW5jaC1wcmltZS1taW5pc3Rlci1ib3JuZS1yZXNpZ25zLXJlcGxhY2VtZW50LW5vdC15ZXQtbmFtZWTSAQA?oc=5\n",
      "Alaska 737 Spent Days in City Where Maintenance Partner Is Based - Bloomberg https://news.google.com/rss/articles/CBMicGh0dHBzOi8vd3d3LmJsb29tYmVyZy5jb20vbmV3cy9hcnRpY2xlcy8yMDI0LTAxLTA4L2FsYXNrYS1haXItNzM3LXNwZW50LTEwLWRheXMtaW4tb2tsYWhvbWEtbWFpbnRlbmFuY2Utd29ya3Nob3DSAQA?oc=5\n",
      "Shipping Stocks Drop After Houthi Rebel Pact Report; Maersk Denies Deal - Bloomberg https://news.google.com/rss/articles/CBMicGh0dHBzOi8vd3d3LmJsb29tYmVyZy5jb20vbmV3cy9hcnRpY2xlcy8yMDI0LTAxLTA4L3NoaXBwaW5nLXN0b2Nrcy1kcm9wLWFmdGVyLXJlcG9ydC1vZi1wYWN0cy13aXRoLWhvdXRoaS1yZWJlbHPSAQA?oc=5\n",
      "China Said It Caught a Foreign Consultant Spying for UK's MI6 - Bloomberg https://news.google.com/rss/articles/CBMicGh0dHBzOi8vd3d3LmJsb29tYmVyZy5jb20vbmV3cy9hcnRpY2xlcy8yMDI0LTAxLTA4L2NoaW5hLXNhaWQtaXQtY2F1Z2h0LWEtZm9yZWlnbi1jb25zdWx0YW50LXNweWluZy1mb3ItdWstcy1taTbSAQA?oc=5\n"
     ]
    }
   ],
   "source": [
    "for entry in feed.entries:\n",
    "    print(entry.title, entry.link)"
   ]
  },
  {
   "cell_type": "code",
   "execution_count": null,
   "id": "6ad14710",
   "metadata": {},
   "outputs": [],
   "source": []
  }
 ],
 "metadata": {
  "kernelspec": {
   "display_name": "Python 3 (ipykernel)",
   "language": "python",
   "name": "python3"
  },
  "language_info": {
   "codemirror_mode": {
    "name": "ipython",
    "version": 3
   },
   "file_extension": ".py",
   "mimetype": "text/x-python",
   "name": "python",
   "nbconvert_exporter": "python",
   "pygments_lexer": "ipython3",
   "version": "3.10.6"
  },
  "toc": {
   "base_numbering": 1,
   "nav_menu": {},
   "number_sections": true,
   "sideBar": true,
   "skip_h1_title": false,
   "title_cell": "Table of Contents",
   "title_sidebar": "Contents",
   "toc_cell": false,
   "toc_position": {},
   "toc_section_display": true,
   "toc_window_display": false
  }
 },
 "nbformat": 4,
 "nbformat_minor": 5
}
